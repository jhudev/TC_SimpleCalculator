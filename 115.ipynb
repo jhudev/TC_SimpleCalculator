{
  "cells": [
    {
      "cell_type": "markdown",
      "id": "2f339925-6d7a-4ce7-bda5-c55ef413aefe",
      "metadata": {
        "id": "2f339925-6d7a-4ce7-bda5-c55ef413aefe"
      },
      "source": [
        "# Module 1: Data Wrangling with Python"
      ]
    },
    {
      "cell_type": "markdown",
      "id": "c38c74b3-b719-4a36-88b9-f1a2f607e568",
      "metadata": {
        "id": "c38c74b3-b719-4a36-88b9-f1a2f607e568"
      },
      "source": [
        "## Sprint 1: Python Mastery"
      ]
    },
    {
      "cell_type": "markdown",
      "id": "6b003ebe-8ea9-42e3-89b3-9a9fdd3c3dde",
      "metadata": {
        "id": "6b003ebe-8ea9-42e3-89b3-9a9fdd3c3dde"
      },
      "source": [
        "## Part 5: Calculator"
      ]
    },
    {
      "cell_type": "markdown",
      "id": "ed198d32-d3af-407f-bd29-43132d8a288f",
      "metadata": {
        "id": "ed198d32-d3af-407f-bd29-43132d8a288f"
      },
      "source": [
        "## New additions to the project review process\n",
        "\n",
        "This is your first full practical project. Practical projects at the end of the Sprint will be reviewed by others - usually by one Senior Team Lead and one peer learner.\n",
        "\n",
        "Peer reviews have a much smaller weight compared to STLs when calculating the final score of a project since we are not expecting learners to always be fully objective. The STL score makes up 70% of the final score, while the peer correction makes up 30%. The final weighted average score of both projects needs to be at least 70% to pass. This means that in extreme cases, even if you get 0% from a peer review, you can still pass the project if you get 100% from an STL (0% * 0.3 + 100% * 0.7 = 70%).\n",
        "\n",
        "STLs have an opportunity to \"force fail\" a project, however. If they see that regardless of the score received, you would still benefit greatly from improving the project and having another set of corrections, they will use this option which will lead to you requiring to re-do the correction. In the platform, this will be shown as a 0% score from the STL (even though individual criteria may lead to a higher score).\n",
        "\n",
        "This is also why learners often prefer to do the peer correction first (even though is is **not** a requirement) – you can get useful feedback from your peers, improve the project and then have the STL correction.\n",
        "\n",
        "When booking a peer correction, you might get an STL if there are no learners available. This will result in both corrections being performed by an STL. However, the same STL cannot perform both corrections.\n",
        "\n",
        "To become available to review others' projects yourself, you should click on the \"My Availability\" button in the top left corner of the Turing platform. By doing these corrections, you will receive correction points which you will need to receive further corrections yourself. Correction points are used every time you book a peer or STL review. You should set your availability once you complete this project, as you will then be able to start reviewing other learners who still need to complete this project.\n",
        "\n",
        "A learner can become a reviewer for a project when they have successfully passed the corrections for that Sprint themselves.\n",
        "\n",
        "## About this Part\n",
        "\n",
        "Congrats!\n",
        "You completed almost all assignments and tasks of this Sprint.\n",
        "You did a great job.\n",
        "In this Part, you will need to prove all the skills that you learned.\n",
        "As the final assignment of this Sprint, you will have to create your own Python package.\n",
        "You will have to apply all that you have learned about OOP and \"Clean Code\" concepts.\n",
        "\n",
        "P.S. we don't expect this project to be perfect - you will continue to improve your skills and there will be many projects for you to apply your newly gained skills in the future.\n",
        "For now just use what you have learned and try your best!\n",
        "\n",
        "## Objectives for this Part\n",
        "\n",
        "- Practice writing clean OOP-based Python code and testing it.\n",
        "- Practice creating your own Python package.\n",
        "- Understand and apply the required software license for your package.\n",
        "- Practice dealing with Python environments.\n",
        "\n",
        "---\n",
        "\n",
        "## The calculator\n",
        "\n",
        "You will need to create a Python module and later transform it into a package.\n",
        "This module will be a calculator.\n",
        "What you should do at first is initialize a new Python package structure and create a new file that will be used as a module.\n",
        "\n",
        "## Writing tests and documentation\n",
        "\n",
        "You should also write tests that ensure that the basic functionality of the class is covered.\n",
        "Make sure that math operations returns expected results. Document your calculator class using docstrings.\n",
        "Add an explanation of the package to the README file.\n",
        "Try to be as specific as possible: include instructions on how to install the package, how to use particular methods.\n",
        "\n",
        "---\n",
        "\n",
        "## Requirements\n",
        "\n",
        "The main package file should contain a class `Calculator` that should be able to perform these actions:\n",
        "\n",
        "- Addition / Subtraction.\n",
        "- Multiplication / Division.\n",
        "- Take (n) root of a number.\n",
        "- Reset memory (**Calculator must have its own memory, meaning it should manipulate its starting number `0` until it is reset.**).\n",
        "\n",
        "This means that, for example, `calculator` should perform actions with a value inside its memory (for this example, the value inside the calculator's memory is `0`): `calculator.add(2)` results in `2`.\n",
        "\n",
        "Present your newly created Python package:\n",
        "\n",
        "* Make a short introduction to the repository of the package.\n",
        "* Install the package into the Google Colab's env using `pip`.\n",
        "* Showcase functionality of the created package.\n",
        "\n",
        "## Evaluation criteria\n",
        "\n",
        "1. Correct Python Package structure is initialized.\n",
        "2. Calculator module is created.\n",
        "3. Calculator class performs required actions.\n",
        "4. Tests are written.\n",
        "5. Code is written with PEP8 standards in mind.\n",
        "6. Code is well-documented.\n",
        "7. Project has an informative README file.\n",
        "8. Package is installable through `pip`.\n",
        "\n",
        "## Correction\n",
        "\n",
        "During your project correction, you should present it as if talking to a technical team lead and a senior co-worker working in your team.\n",
        "You can assume that they will have strong data science and software engineering skills - they will understand technical jargon, they are expected to notice things that could have been done better, ask about the choices you've made (especially if you've made some questionable choices).\n",
        "In addition, be careful not to spend your time explaining trivial concepts or code snippets that are simple - your best bet is to focus your presentation on the more difficult portions of your code.\n",
        "\n",
        "During a correction, you may get asked questions that test your understanding of covered topics.\n",
        "\n",
        "- What is Object-Oriented Programming? Select and explain two examples where using OOP concepts can improve the quality and usability of code.\n",
        "- What is \"Clean Code\"? Select four main key concepts and explain them using real-world examples.\n",
        "- Why do we need to document code? How can you do it? What should be provided inside the documentation?\n"
      ]
    },
    {
      "cell_type": "markdown",
      "id": "b7e8632f-4598-45e7-950c-9d8ec35df00b",
      "metadata": {
        "id": "b7e8632f-4598-45e7-950c-9d8ec35df00b"
      },
      "source": [
        "### General Correction Guidelines\n",
        "\n",
        "For an in-depth explanation about how corrections work at Turing College, please read [this doc](https://turingcollege.atlassian.net/wiki/spaces/DLG/pages/537395951/Peer+expert+reviews+corrections).\n"
      ]
    },
    {
      "cell_type": "markdown",
      "source": [
        "\n",
        "\n",
        "\n",
        "-----------------------------------------------------\n",
        "\n",
        "-----------------------------------------------------\n",
        "\n",
        "# PROJECT NOTES\n",
        "## Additional information and showcase of functions are in README.MD of github project files. URL: https://github.com/jhudev/TC_SimpleCalculator\n",
        "\n",
        "### TASK 1: Make a short introduction to the repository of the package.\n",
        "\n",
        "The python package for \"Calculator\" class, which stores a number and provides basic math operations (e.g, add, subtract, multiply, divide, root). Values are cumulative and can be initially set and continually reset.\n",
        "\n",
        "It provides five basic operations:\n",
        "> add, subtract, multiply, divide, root (nth)\n",
        "\n",
        "Each function requires one number, which it will perform against the value stored within \"value\". In addition, all operations performed will be logged as a list \"operation_log\". The accumulative value can be reset.\n",
        "\n",
        "## NOTE\n",
        "*Note: Package is made for local use and has not been uploaded to pypi.\n",
        "*      Using publicly-accessible link for LOCAL pip installation"
      ],
      "metadata": {
        "id": "AXx76rZTne9U"
      },
      "id": "AXx76rZTne9U"
    },
    {
      "cell_type": "code",
      "source": [
        "#TASK 2: Install the package into the Google Colab's env using pip\n",
        "!pip uninstall mycalculator\n",
        "!pip install git+https://github.com/jhudev/TC_SimpleCalculator#egg=mycalculator\n",
        "# Note uninstall pypi mycalculator to prevent name collision. This is only to test pip installation of local Package use."
      ],
      "metadata": {
        "id": "DNofPcNQneS8",
        "outputId": "d64de3ed-7b54-4e3a-cc6d-51c081766b61",
        "colab": {
          "base_uri": "https://localhost:8080/",
          "height": 450
        }
      },
      "id": "DNofPcNQneS8",
      "execution_count": 35,
      "outputs": [
        {
          "output_type": "stream",
          "name": "stdout",
          "text": [
            "Found existing installation: mycalculator 0.0.1\n",
            "Uninstalling mycalculator-0.0.1:\n",
            "  Would remove:\n",
            "    /usr/local/lib/python3.10/dist-packages/mycalculator-0.0.1.dist-info/*\n",
            "    /usr/local/lib/python3.10/dist-packages/mycalculator/*\n",
            "Proceed (Y/n)? Y\n",
            "  Successfully uninstalled mycalculator-0.0.1\n",
            "Looking in indexes: https://pypi.org/simple, https://us-python.pkg.dev/colab-wheels/public/simple/\n",
            "Collecting mycalculator\n",
            "  Cloning https://github.com/jhudev/TC_SimpleCalculator to /tmp/pip-install-804ubql4/mycalculator_23beac43070b429589433a06714ba26e\n",
            "  Running command git clone --filter=blob:none --quiet https://github.com/jhudev/TC_SimpleCalculator /tmp/pip-install-804ubql4/mycalculator_23beac43070b429589433a06714ba26e\n",
            "  Resolved https://github.com/jhudev/TC_SimpleCalculator to commit 3f93821c2c4a230128e3585e9c7bdd41d53a6198\n",
            "  Preparing metadata (setup.py) ... \u001b[?25l\u001b[?25hdone\n",
            "Building wheels for collected packages: mycalculator\n",
            "  Building wheel for mycalculator (setup.py) ... \u001b[?25l\u001b[?25hdone\n",
            "  Created wheel for mycalculator: filename=mycalculator-0.0.1-py3-none-any.whl size=4645 sha256=86fee6152baf656e1d31e6418a69993dce56dc9392931ece199b07140987d77b\n",
            "  Stored in directory: /tmp/pip-ephem-wheel-cache-hzk68eec/wheels/93/33/16/69b92c796968b00c5131429661cf441d8f00e0b68501df06ad\n",
            "Successfully built mycalculator\n",
            "Installing collected packages: mycalculator\n",
            "Successfully installed mycalculator-0.0.1\n"
          ]
        },
        {
          "output_type": "display_data",
          "data": {
            "application/vnd.colab-display-data+json": {
              "pip_warning": {
                "packages": [
                  "mycalculator"
                ]
              }
            }
          },
          "metadata": {}
        }
      ]
    },
    {
      "cell_type": "code",
      "source": [
        "import mycalculator\n",
        "\n",
        "dir(mycalculator)"
      ],
      "metadata": {
        "id": "1SDvNg51p16j",
        "outputId": "9710dce3-9e36-4ed6-ba7d-7a506fff4d78",
        "colab": {
          "base_uri": "https://localhost:8080/"
        }
      },
      "id": "1SDvNg51p16j",
      "execution_count": 1,
      "outputs": [
        {
          "output_type": "execute_result",
          "data": {
            "text/plain": [
              "['Calculator',\n",
              " '__all__',\n",
              " '__builtins__',\n",
              " '__cached__',\n",
              " '__doc__',\n",
              " '__file__',\n",
              " '__loader__',\n",
              " '__name__',\n",
              " '__package__',\n",
              " '__path__',\n",
              " '__spec__',\n",
              " 'calculator']"
            ]
          },
          "metadata": {},
          "execution_count": 1
        }
      ]
    },
    {
      "cell_type": "code",
      "source": [
        "# TASK 3: Showcase functionality of the created package.\n",
        "# For more functions, see README.MD\n",
        "\n",
        "#if the current value is 4, add(2) will add the number 2 to the value 4 and store the current total 6 as the new value.\n",
        "\n",
        "from mycalculator import Calculator\n",
        "\n",
        "compA = Calculator(4) #< sets the initial value, but default is 0.\n",
        "compA.add(2)\n",
        "compA.value #< output: 6\n"
      ],
      "metadata": {
        "id": "2xp16BKloFUl",
        "outputId": "8e8d30e8-431e-4714-850c-4e8cc04b444f",
        "colab": {
          "base_uri": "https://localhost:8080/"
        }
      },
      "id": "2xp16BKloFUl",
      "execution_count": 3,
      "outputs": [
        {
          "output_type": "execute_result",
          "data": {
            "text/plain": [
              "6"
            ]
          },
          "metadata": {},
          "execution_count": 3
        }
      ]
    },
    {
      "cell_type": "code",
      "source": [
        "#Similarly, if the value is 27, root(3) will take the 3rd root of 27 which is 3.\n",
        "\n",
        "compA = Calculator(27)\n",
        "compA.root(3)\n",
        "compA.value #< output: 3"
      ],
      "metadata": {
        "id": "7q784uJ6qULE",
        "outputId": "1bcec343-e650-4310-e6a2-4cc3b55e1685",
        "colab": {
          "base_uri": "https://localhost:8080/"
        }
      },
      "id": "7q784uJ6qULE",
      "execution_count": 4,
      "outputs": [
        {
          "output_type": "execute_result",
          "data": {
            "text/plain": [
              "3.0"
            ]
          },
          "metadata": {},
          "execution_count": 4
        }
      ]
    },
    {
      "cell_type": "code",
      "source": [
        "#One can also reset the value using reset(). Similarly, a value can be provided or left to default of 0.\n",
        "\n",
        "compA = Calculator(5)\n",
        "compA.reset()\n",
        "compA.value #< output 0\n"
      ],
      "metadata": {
        "id": "4NMjF-6Jq-JD",
        "outputId": "a834c802-f761-4050-f862-13b3ebf408ff",
        "colab": {
          "base_uri": "https://localhost:8080/"
        }
      },
      "id": "4NMjF-6Jq-JD",
      "execution_count": 5,
      "outputs": [
        {
          "output_type": "execute_result",
          "data": {
            "text/plain": [
              "0"
            ]
          },
          "metadata": {},
          "execution_count": 5
        }
      ]
    }
  ],
  "metadata": {
    "kernelspec": {
      "display_name": "Python 3",
      "language": "python",
      "name": "python3"
    },
    "language_info": {
      "codemirror_mode": {
        "name": "ipython",
        "version": 3
      },
      "file_extension": ".py",
      "mimetype": "text/x-python",
      "name": "python",
      "nbconvert_exporter": "python",
      "pygments_lexer": "ipython3",
      "version": "3.9.5"
    },
    "colab": {
      "provenance": []
    }
  },
  "nbformat": 4,
  "nbformat_minor": 5
}